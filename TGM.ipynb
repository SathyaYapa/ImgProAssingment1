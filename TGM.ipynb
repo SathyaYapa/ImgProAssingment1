{
 "cells": [
  {
   "cell_type": "code",
   "execution_count": 1,
   "metadata": {},
   "outputs": [
    {
     "name": "stdout",
     "output_type": "stream",
     "text": [
      "Hello World\n"
     ]
    }
   ],
   "source": [
    "print(\"Hello World\")\n",
    "\n",
    "if(distanceA<threshold)\n",
    "{\n",
    "    for(int s=0, s<5, s=++s )\n",
    "    {\n",
    "    \n",
    "    \n",
    "    delay(500)\n",
    "    if(distanceB<threshold)\n",
    "    {\n",
    "    \n",
    "    count=++count\n",
    "\n",
    "    }\n",
    "    \n",
    "    else\n",
    "    {\n",
    "    \n",
    "    count=--count\n",
    "    \n",
    "    }\n",
    "\n",
    "    }\n",
    "}"
   ]
  }
 ],
 "metadata": {
  "kernelspec": {
   "display_name": "Python 3",
   "language": "python",
   "name": "python3"
  },
  "language_info": {
   "codemirror_mode": {
    "name": "ipython",
    "version": 3
   },
   "file_extension": ".py",
   "mimetype": "text/x-python",
   "name": "python",
   "nbconvert_exporter": "python",
   "pygments_lexer": "ipython3",
   "version": "3.11.1"
  },
  "orig_nbformat": 4,
  "vscode": {
   "interpreter": {
    "hash": "5238573367df39f7286bb46f9ff5f08f63a01a80960060ce41e3c79b190280fa"
   }
  }
 },
 "nbformat": 4,
 "nbformat_minor": 2
}
